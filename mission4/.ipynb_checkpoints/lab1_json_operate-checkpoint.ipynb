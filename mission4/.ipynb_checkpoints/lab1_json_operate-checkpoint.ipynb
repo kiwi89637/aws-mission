{
 "cells": [
  {
   "cell_type": "code",
   "execution_count": 1,
   "metadata": {},
   "outputs": [
    {
     "data": {
      "text/plain": [
       "'\\n創建一個json檔，讀取該檔案做操作，將四個欄位進行內容修改，存回原檔案\\n'"
      ]
     },
     "execution_count": 1,
     "metadata": {},
     "output_type": "execute_result"
    }
   ],
   "source": [
    "\"\"\"\n",
    "創建一個json檔，讀取該檔案做操作，將四個欄位進行內容修改，存回原檔案\n",
    "\"\"\""
   ]
  },
  {
   "cell_type": "code",
   "execution_count": 59,
   "metadata": {},
   "outputs": [
    {
     "name": "stdout",
     "output_type": "stream",
     "text": [
      "{'arry': [1, 2, 3, 'haha', 'QQ', 'drumstick'],\n",
      " 'number': 28,\n",
      " 'object': {'lbh': 28, 'mind': 'junior high school 2'},\n",
      " 'string': 'lbh love drumstick'}\n",
      "' '\n",
      "<_io.TextIOWrapper name='./xxx' mode='w' encoding='UTF-8'>\n",
      "' '\n",
      "('{\"string\": \"lbh love drumstick\", \"number\": 28, \"object\": {\"lbh\": 28, \"mind\": '\n",
      " '\"junior high school 2\"}, \"arry\": [1, 2, 3, \"haha\", \"QQ\", \"drumstick\"]}')\n",
      "' '\n",
      "{'arry': [1, 2, 3, 'haha', 'QQ', 'drumstick'],\n",
      " 'number': 28,\n",
      " 'object': {'lbh': 28, 'mind': 'junior high school 2'},\n",
      " 'string': 'lbh love drumstick'}\n",
      "' '\n"
     ]
    }
   ],
   "source": [
    "#創建json檔，檔名xxx\n",
    "\n",
    "#先匯入json\n",
    "import json\n",
    "from pprint import pprint\n",
    "\n",
    "#給變數AAA值並符合json格式\n",
    "AAA = {\n",
    "    \"string\":\"lbh love drumstick\",\n",
    "    \"number\":28,\n",
    "    \"object\":{\"lbh\":28,\"mind\":\"junior high school 2\"},\n",
    "    \"arry\":[1,2,3,\"haha\",\"QQ\",\"drumstick\"],\n",
    "}\n",
    "\n",
    "#看一下上面結果如何\n",
    "pprint(AAA)\n",
    "pprint(\" \")\n",
    "\n",
    "#存檔，存入名為xxx的檔案內(以變數BBB為名進行write操作)\n",
    "BBB = open('./xxx','w')\n",
    "#用json.dump將變數AAA轉成json檔，並存入變數xxxtmp\n",
    "xxxtmp = json.dumps(AAA)\n",
    "#將xxxtmp寫入變數BBB(等於寫入檔案xxx)\n",
    "BBB.write(xxxtmp)\n",
    "#儲存後關閉\n",
    "BBB.close()\n",
    "\n",
    "#好奇看一下變數各自表視為何?\n",
    "#尤其是變數AAA，前面有json.dump過了，是否影響全部的變數AAA或只單純影響xxxtmp\n",
    "pprint(BBB)\n",
    "pprint(\" \")\n",
    "pprint(xxxtmp)\n",
    "pprint(\" \")\n",
    "pprint(AAA)\n",
    "pprint(\" \")"
   ]
  },
  {
   "cell_type": "code",
   "execution_count": 60,
   "metadata": {},
   "outputs": [
    {
     "name": "stdout",
     "output_type": "stream",
     "text": [
      "<_io.TextIOWrapper name='./xxx' mode='r' encoding='UTF-8'>\n",
      "' '\n",
      "{'arry': [1, 2, 3, 'haha', 'QQ', 'drumstick'],\n",
      " 'number': 28,\n",
      " 'object': {'lbh': 28, 'mind': 'junior high school 2'},\n",
      " 'string': 'lbh love drumstick'}\n",
      "' '\n"
     ]
    }
   ],
   "source": [
    "#讀檔\n",
    "\n",
    "#讀xxx檔案，以變數CCC進行操作\n",
    "CCC = open('./xxx','r')\n",
    "#用json讀取CCC，並存成xxxtmp\n",
    "xxxtmp = json.load(CCC)\n",
    "#關閉讀取狀態\n",
    "CCC.close()\n",
    "\n",
    "#看一下CCC和xxxtmp\n",
    "pprint(CCC)\n",
    "pprint(\" \")\n",
    "pprint(xxxtmp)\n",
    "pprint(\" \")\n"
   ]
  },
  {
   "cell_type": "code",
   "execution_count": 61,
   "metadata": {},
   "outputs": [
    {
     "name": "stdout",
     "output_type": "stream",
     "text": [
      "{'arry': [1, 2, 3, 'haha', 'QQ', 'drumstick'],\n",
      " 'number': 28,\n",
      " 'object': {'lbh': 28, 'mind': 'junior high school 2'},\n",
      " 'string': 'lbh love drumstick'}\n",
      "{'arry': (['aws', 'iot', 'server', 9, 8, 7],),\n",
      " 'number': (82,),\n",
      " 'object': ({'class': 'cc104', 'number': 11},),\n",
      " 'string': ('hahahaha',)}\n",
      "' '\n",
      "<_io.TextIOWrapper name='./xxx' mode='r' encoding='UTF-8'>\n"
     ]
    }
   ],
   "source": [
    "#修改檔案內容並儲存\n",
    "#好像只能另存心檔???\n",
    "#用w無法開啟，用r無法寫入，rw無法使用，有空心情好的時候再研究好了!!\n",
    "\n",
    "#對xxxtmp做修改\n",
    "#好像原本是在CCC關閉之前做修改?(比較不用開來開去)\n",
    "\n",
    "\n",
    "DDD = open('./xxx','r')\n",
    "pprint(xxxtmp)\n",
    "xxxtmp = json.load(DDD)\n",
    "xxxtmp[\"string\"]=\"hahahaha\",\n",
    "xxxtmp[\"number\"]=82,\n",
    "xxxtmp[\"object\"]={\"number\":11,\"class\":\"cc104\"},\n",
    "xxxtmp[\"arry\"]=[\"aws\",\"iot\",\"server\",9,8,7],\n",
    "\n",
    "\n",
    "#DDD = json.dumps(DDD)\n",
    "#DDD[\"string\"]=\"hahahaha\",\n",
    "#DDD[\"number\"]=82,\n",
    "#DDD[\"object\"]={\"number\":11,\"class\":\"cc104\"},\n",
    "#DDD[\"arry\"]=[\"aws\",\"iot\",\"server\",9,8,7],\n",
    "\n",
    "#看一下修改結果\n",
    "pprint(xxxtmp)\n",
    "pprint(\" \")\n",
    "\n",
    "\n",
    "#DDD.write(xxxtmp)\n",
    "DDD.close()\n",
    "#一樣看一下\n",
    "pprint(DDD)\n",
    "#嗯...\n",
    "\n",
    "#存入新檔案\n",
    "EEE = open('./yyy','w')\n",
    "EEE.write(json.dumps(xxxtmp))\n",
    "EEE.close()"
   ]
  },
  {
   "cell_type": "code",
   "execution_count": null,
   "metadata": {},
   "outputs": [],
   "source": [
    "#創新的json檔後再對其做修改並儲存回原黨\n",
    "\n",
    "FFF = {\n",
    "    \"string\":\"resave test\",\n",
    "    \"number\":1111,\n",
    "    \"object\":{\"month\":\"January\",\"date\":12},\n",
    "    \"arry\":[1,2,3,\"haha\",\"medicine\",\"bodytest\"],\n",
    "}\n",
    "\n",
    "GGG = open('./zzz','w')\n",
    "GGG.write(json.dimps(FFF))\n",
    "GGG.close()\n",
    "\n",
    "HHH = open('./zzz','r')\n",
    "III = open('./zzz','w')"
   ]
  }
 ],
 "metadata": {
  "kernelspec": {
   "display_name": "Python 3",
   "language": "python",
   "name": "python3"
  },
  "language_info": {
   "codemirror_mode": {
    "name": "ipython",
    "version": 3
   },
   "file_extension": ".py",
   "mimetype": "text/x-python",
   "name": "python",
   "nbconvert_exporter": "python",
   "pygments_lexer": "ipython3",
   "version": "3.7.1"
  }
 },
 "nbformat": 4,
 "nbformat_minor": 2
}
