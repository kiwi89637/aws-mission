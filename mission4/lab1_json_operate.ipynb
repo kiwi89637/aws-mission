{
 "cells": [
  {
   "cell_type": "code",
   "execution_count": 1,
   "metadata": {},
   "outputs": [
    {
     "data": {
      "text/plain": [
       "'\\n創建一個json檔，讀取該檔案做操作，將四個欄位進行內容修改，存回原檔案\\n'"
      ]
     },
     "execution_count": 1,
     "metadata": {},
     "output_type": "execute_result"
    }
   ],
   "source": [
    "\"\"\"\n",
    "創建一個json檔，讀取該檔案做操作，將四個欄位進行內容修改，存回原檔案\n",
    "\"\"\""
   ]
  },
  {
   "cell_type": "code",
   "execution_count": 59,
   "metadata": {},
   "outputs": [
    {
     "name": "stdout",
     "output_type": "stream",
     "text": [
      "{'arry': [1, 2, 3, 'haha', 'QQ', 'drumstick'],\n",
      " 'number': 28,\n",
      " 'object': {'lbh': 28, 'mind': 'junior high school 2'},\n",
      " 'string': 'lbh love drumstick'}\n",
      "' '\n",
      "<_io.TextIOWrapper name='./xxx' mode='w' encoding='UTF-8'>\n",
      "' '\n",
      "('{\"string\": \"lbh love drumstick\", \"number\": 28, \"object\": {\"lbh\": 28, \"mind\": '\n",
      " '\"junior high school 2\"}, \"arry\": [1, 2, 3, \"haha\", \"QQ\", \"drumstick\"]}')\n",
      "' '\n",
      "{'arry': [1, 2, 3, 'haha', 'QQ', 'drumstick'],\n",
      " 'number': 28,\n",
      " 'object': {'lbh': 28, 'mind': 'junior high school 2'},\n",
      " 'string': 'lbh love drumstick'}\n",
      "' '\n"
     ]
    }
   ],
   "source": [
    "#創建json檔，檔名xxx\n",
    "\n",
    "#先匯入json\n",
    "import json\n",
    "from pprint import pprint\n",
    "\n",
    "#給變數AAA值並符合json格式\n",
    "AAA = {\n",
    "    \"string\":\"lbh love drumstick\",\n",
    "    \"number\":28,\n",
    "    \"object\":{\"lbh\":28,\"mind\":\"junior high school 2\"},\n",
    "    \"arry\":[1,2,3,\"haha\",\"QQ\",\"drumstick\"],\n",
    "}\n",
    "\n",
    "#看一下上面結果如何\n",
    "pprint(AAA)\n",
    "pprint(\" \")\n",
    "\n",
    "#存檔，存入名為xxx的檔案內(以變數BBB為名進行write操作)\n",
    "BBB = open('./xxx','w')\n",
    "#用json.dump將變數AAA轉成json檔，並存入變數xxxtmp\n",
    "xxxtmp = json.dumps(AAA)\n",
    "#將xxxtmp寫入變數BBB(等於寫入檔案xxx)\n",
    "BBB.write(xxxtmp)\n",
    "#儲存後關閉\n",
    "BBB.close()\n",
    "\n",
    "#好奇看一下變數各自表視為何?\n",
    "#尤其是變數AAA，前面有json.dump過了，是否影響全部的變數AAA或只單純影響xxxtmp\n",
    "pprint(BBB)\n",
    "pprint(\" \")\n",
    "pprint(xxxtmp)\n",
    "pprint(\" \")\n",
    "pprint(AAA)\n",
    "pprint(\" \")"
   ]
  },
  {
   "cell_type": "code",
   "execution_count": 60,
   "metadata": {},
   "outputs": [
    {
     "name": "stdout",
     "output_type": "stream",
     "text": [
      "<_io.TextIOWrapper name='./xxx' mode='r' encoding='UTF-8'>\n",
      "' '\n",
      "{'arry': [1, 2, 3, 'haha', 'QQ', 'drumstick'],\n",
      " 'number': 28,\n",
      " 'object': {'lbh': 28, 'mind': 'junior high school 2'},\n",
      " 'string': 'lbh love drumstick'}\n",
      "' '\n"
     ]
    }
   ],
   "source": [
    "#讀檔\n",
    "\n",
    "#讀xxx檔案，以變數CCC進行操作\n",
    "CCC = open('./xxx','r')\n",
    "#用json讀取CCC，並存成xxxtmp\n",
    "xxxtmp = json.load(CCC)\n",
    "#關閉讀取狀態\n",
    "CCC.close()\n",
    "\n",
    "#看一下CCC和xxxtmp\n",
    "pprint(CCC)\n",
    "pprint(\" \")\n",
    "pprint(xxxtmp)\n",
    "pprint(\" \")\n"
   ]
  },
  {
   "cell_type": "code",
   "execution_count": 61,
   "metadata": {},
   "outputs": [
    {
     "name": "stdout",
     "output_type": "stream",
     "text": [
      "{'arry': [1, 2, 3, 'haha', 'QQ', 'drumstick'],\n",
      " 'number': 28,\n",
      " 'object': {'lbh': 28, 'mind': 'junior high school 2'},\n",
      " 'string': 'lbh love drumstick'}\n",
      "{'arry': (['aws', 'iot', 'server', 9, 8, 7],),\n",
      " 'number': (82,),\n",
      " 'object': ({'class': 'cc104', 'number': 11},),\n",
      " 'string': ('hahahaha',)}\n",
      "' '\n",
      "<_io.TextIOWrapper name='./xxx' mode='r' encoding='UTF-8'>\n"
     ]
    }
   ],
   "source": [
    "#修改檔案內容並儲存\n",
    "#好像只能另存心檔???\n",
    "#用w無法開啟，用r無法寫入，rw無法使用，有空心情好的時候再研究好了!!\n",
    "\n",
    "#對xxxtmp做修改\n",
    "#好像原本是在CCC關閉之前做修改?(比較不用開來開去)\n",
    "\n",
    "\n",
    "DDD = open('./xxx','r')\n",
    "pprint(xxxtmp)\n",
    "xxxtmp = json.load(DDD)\n",
    "xxxtmp[\"string\"]=\"hahahaha\",\n",
    "xxxtmp[\"number\"]=82,\n",
    "xxxtmp[\"object\"]={\"number\":11,\"class\":\"cc104\"},\n",
    "xxxtmp[\"arry\"]=[\"aws\",\"iot\",\"server\",9,8,7],\n",
    "\n",
    "\n",
    "#DDD = json.dumps(DDD)\n",
    "#DDD[\"string\"]=\"hahahaha\",\n",
    "#DDD[\"number\"]=82,\n",
    "#DDD[\"object\"]={\"number\":11,\"class\":\"cc104\"},\n",
    "#DDD[\"arry\"]=[\"aws\",\"iot\",\"server\",9,8,7],\n",
    "\n",
    "#看一下修改結果\n",
    "pprint(xxxtmp)\n",
    "pprint(\" \")\n",
    "\n",
    "\n",
    "#DDD.write(xxxtmp)\n",
    "DDD.close()\n",
    "#一樣看一下\n",
    "pprint(DDD)\n",
    "#嗯...\n",
    "\n",
    "#存入新檔案\n",
    "EEE = open('./yyy','w')\n",
    "EEE.write(json.dumps(xxxtmp))\n",
    "EEE.close()"
   ]
  },
  {
   "cell_type": "code",
   "execution_count": 19,
   "metadata": {},
   "outputs": [],
   "source": [
    "#創新的json檔後再對其做修改並儲存回原黨\n",
    "\n",
    "import json\n",
    "\n",
    "#先創造\n",
    "FFF = {\n",
    "    \"string\":\"resave test\",\n",
    "    \"number\":1111,\n",
    "    \"object\":{\"month\":\"January\",\"date\":12},\n",
    "    \"arry\":[1,2,3,\"haha\",\"medicine\",\"bodytest\"],\n",
    "}\n",
    "#存檔\n",
    "GGG = open('./zzz','w')\n",
    "GGG.write(json.dumps(FFF))\n",
    "GGG.close()\n",
    "#打開讀取然後做修改但不儲存\n",
    "HHH = open('./zzz','r')\n",
    "xxxtmp = json.load(HHH)\n",
    "xxxtmp[\"string\"]=\"final test\",\n",
    "xxxtmp[\"number\"]=1400,\n",
    "xxxtmp[\"object\"]={\"where\":\"taipei\",\"date\":\"0112\"}\n",
    "xxxtmp[\"arry\"]=[456,789,0,\"A\",\"B\",\"C\"]\n",
    "#讀取模式不能做寫入動作\n",
    "#HHH.write(json.dumps(FFF))\n",
    "HHH.close()\n",
    "#把修改的存進去\n",
    "III = open('./zzz','w')\n",
    "III.write(json.dumps(xxxtmp))\n",
    "III.close()\n"
   ]
  },
  {
   "cell_type": "code",
   "execution_count": 21,
   "metadata": {},
   "outputs": [
    {
     "ename": "JSONDecodeError",
     "evalue": "Expecting value: line 1 column 1 (char 0)",
     "output_type": "error",
     "traceback": [
      "\u001b[0;31m---------------------------------------------------------------------------\u001b[0m",
      "\u001b[0;31mJSONDecodeError\u001b[0m                           Traceback (most recent call last)",
      "\u001b[0;32m<ipython-input-21-f9ca7cab0ac3>\u001b[0m in \u001b[0;36m<module>\u001b[0;34m\u001b[0m\n\u001b[1;32m     14\u001b[0m \u001b[0mHHH\u001b[0m \u001b[0;34m=\u001b[0m \u001b[0mopen\u001b[0m\u001b[0;34m(\u001b[0m\u001b[0;34m'./zzz'\u001b[0m\u001b[0;34m,\u001b[0m\u001b[0;34m'r'\u001b[0m\u001b[0;34m)\u001b[0m\u001b[0;34m\u001b[0m\u001b[0;34m\u001b[0m\u001b[0m\n\u001b[1;32m     15\u001b[0m \u001b[0mIII\u001b[0m \u001b[0;34m=\u001b[0m \u001b[0mopen\u001b[0m\u001b[0;34m(\u001b[0m\u001b[0;34m'./zzz'\u001b[0m\u001b[0;34m,\u001b[0m\u001b[0;34m'w'\u001b[0m\u001b[0;34m)\u001b[0m\u001b[0;34m\u001b[0m\u001b[0;34m\u001b[0m\u001b[0m\n\u001b[0;32m---> 16\u001b[0;31m \u001b[0mxxxtmp\u001b[0m \u001b[0;34m=\u001b[0m \u001b[0mjson\u001b[0m\u001b[0;34m.\u001b[0m\u001b[0mload\u001b[0m\u001b[0;34m(\u001b[0m\u001b[0mHHH\u001b[0m\u001b[0;34m)\u001b[0m\u001b[0;34m\u001b[0m\u001b[0;34m\u001b[0m\u001b[0m\n\u001b[0m\u001b[1;32m     17\u001b[0m \u001b[0mxxxtmp\u001b[0m\u001b[0;34m[\u001b[0m\u001b[0;34m\"string\"\u001b[0m\u001b[0;34m]\u001b[0m\u001b[0;34m=\u001b[0m\u001b[0;34m\"final test\"\u001b[0m\u001b[0;34m,\u001b[0m\u001b[0;34m\u001b[0m\u001b[0;34m\u001b[0m\u001b[0m\n\u001b[1;32m     18\u001b[0m \u001b[0mxxxtmp\u001b[0m\u001b[0;34m[\u001b[0m\u001b[0;34m\"number\"\u001b[0m\u001b[0;34m]\u001b[0m\u001b[0;34m=\u001b[0m\u001b[0;36m1400\u001b[0m\u001b[0;34m,\u001b[0m\u001b[0;34m\u001b[0m\u001b[0;34m\u001b[0m\u001b[0m\n",
      "\u001b[0;32m/opt/conda/lib/python3.7/json/__init__.py\u001b[0m in \u001b[0;36mload\u001b[0;34m(fp, cls, object_hook, parse_float, parse_int, parse_constant, object_pairs_hook, **kw)\u001b[0m\n\u001b[1;32m    294\u001b[0m         \u001b[0mcls\u001b[0m\u001b[0;34m=\u001b[0m\u001b[0mcls\u001b[0m\u001b[0;34m,\u001b[0m \u001b[0mobject_hook\u001b[0m\u001b[0;34m=\u001b[0m\u001b[0mobject_hook\u001b[0m\u001b[0;34m,\u001b[0m\u001b[0;34m\u001b[0m\u001b[0;34m\u001b[0m\u001b[0m\n\u001b[1;32m    295\u001b[0m         \u001b[0mparse_float\u001b[0m\u001b[0;34m=\u001b[0m\u001b[0mparse_float\u001b[0m\u001b[0;34m,\u001b[0m \u001b[0mparse_int\u001b[0m\u001b[0;34m=\u001b[0m\u001b[0mparse_int\u001b[0m\u001b[0;34m,\u001b[0m\u001b[0;34m\u001b[0m\u001b[0;34m\u001b[0m\u001b[0m\n\u001b[0;32m--> 296\u001b[0;31m         parse_constant=parse_constant, object_pairs_hook=object_pairs_hook, **kw)\n\u001b[0m\u001b[1;32m    297\u001b[0m \u001b[0;34m\u001b[0m\u001b[0m\n\u001b[1;32m    298\u001b[0m \u001b[0;34m\u001b[0m\u001b[0m\n",
      "\u001b[0;32m/opt/conda/lib/python3.7/json/__init__.py\u001b[0m in \u001b[0;36mloads\u001b[0;34m(s, encoding, cls, object_hook, parse_float, parse_int, parse_constant, object_pairs_hook, **kw)\u001b[0m\n\u001b[1;32m    346\u001b[0m             \u001b[0mparse_int\u001b[0m \u001b[0;32mis\u001b[0m \u001b[0;32mNone\u001b[0m \u001b[0;32mand\u001b[0m \u001b[0mparse_float\u001b[0m \u001b[0;32mis\u001b[0m \u001b[0;32mNone\u001b[0m \u001b[0;32mand\u001b[0m\u001b[0;34m\u001b[0m\u001b[0;34m\u001b[0m\u001b[0m\n\u001b[1;32m    347\u001b[0m             parse_constant is None and object_pairs_hook is None and not kw):\n\u001b[0;32m--> 348\u001b[0;31m         \u001b[0;32mreturn\u001b[0m \u001b[0m_default_decoder\u001b[0m\u001b[0;34m.\u001b[0m\u001b[0mdecode\u001b[0m\u001b[0;34m(\u001b[0m\u001b[0ms\u001b[0m\u001b[0;34m)\u001b[0m\u001b[0;34m\u001b[0m\u001b[0;34m\u001b[0m\u001b[0m\n\u001b[0m\u001b[1;32m    349\u001b[0m     \u001b[0;32mif\u001b[0m \u001b[0mcls\u001b[0m \u001b[0;32mis\u001b[0m \u001b[0;32mNone\u001b[0m\u001b[0;34m:\u001b[0m\u001b[0;34m\u001b[0m\u001b[0;34m\u001b[0m\u001b[0m\n\u001b[1;32m    350\u001b[0m         \u001b[0mcls\u001b[0m \u001b[0;34m=\u001b[0m \u001b[0mJSONDecoder\u001b[0m\u001b[0;34m\u001b[0m\u001b[0;34m\u001b[0m\u001b[0m\n",
      "\u001b[0;32m/opt/conda/lib/python3.7/json/decoder.py\u001b[0m in \u001b[0;36mdecode\u001b[0;34m(self, s, _w)\u001b[0m\n\u001b[1;32m    335\u001b[0m \u001b[0;34m\u001b[0m\u001b[0m\n\u001b[1;32m    336\u001b[0m         \"\"\"\n\u001b[0;32m--> 337\u001b[0;31m         \u001b[0mobj\u001b[0m\u001b[0;34m,\u001b[0m \u001b[0mend\u001b[0m \u001b[0;34m=\u001b[0m \u001b[0mself\u001b[0m\u001b[0;34m.\u001b[0m\u001b[0mraw_decode\u001b[0m\u001b[0;34m(\u001b[0m\u001b[0ms\u001b[0m\u001b[0;34m,\u001b[0m \u001b[0midx\u001b[0m\u001b[0;34m=\u001b[0m\u001b[0m_w\u001b[0m\u001b[0;34m(\u001b[0m\u001b[0ms\u001b[0m\u001b[0;34m,\u001b[0m \u001b[0;36m0\u001b[0m\u001b[0;34m)\u001b[0m\u001b[0;34m.\u001b[0m\u001b[0mend\u001b[0m\u001b[0;34m(\u001b[0m\u001b[0;34m)\u001b[0m\u001b[0;34m)\u001b[0m\u001b[0;34m\u001b[0m\u001b[0;34m\u001b[0m\u001b[0m\n\u001b[0m\u001b[1;32m    338\u001b[0m         \u001b[0mend\u001b[0m \u001b[0;34m=\u001b[0m \u001b[0m_w\u001b[0m\u001b[0;34m(\u001b[0m\u001b[0ms\u001b[0m\u001b[0;34m,\u001b[0m \u001b[0mend\u001b[0m\u001b[0;34m)\u001b[0m\u001b[0;34m.\u001b[0m\u001b[0mend\u001b[0m\u001b[0;34m(\u001b[0m\u001b[0;34m)\u001b[0m\u001b[0;34m\u001b[0m\u001b[0;34m\u001b[0m\u001b[0m\n\u001b[1;32m    339\u001b[0m         \u001b[0;32mif\u001b[0m \u001b[0mend\u001b[0m \u001b[0;34m!=\u001b[0m \u001b[0mlen\u001b[0m\u001b[0;34m(\u001b[0m\u001b[0ms\u001b[0m\u001b[0;34m)\u001b[0m\u001b[0;34m:\u001b[0m\u001b[0;34m\u001b[0m\u001b[0;34m\u001b[0m\u001b[0m\n",
      "\u001b[0;32m/opt/conda/lib/python3.7/json/decoder.py\u001b[0m in \u001b[0;36mraw_decode\u001b[0;34m(self, s, idx)\u001b[0m\n\u001b[1;32m    353\u001b[0m             \u001b[0mobj\u001b[0m\u001b[0;34m,\u001b[0m \u001b[0mend\u001b[0m \u001b[0;34m=\u001b[0m \u001b[0mself\u001b[0m\u001b[0;34m.\u001b[0m\u001b[0mscan_once\u001b[0m\u001b[0;34m(\u001b[0m\u001b[0ms\u001b[0m\u001b[0;34m,\u001b[0m \u001b[0midx\u001b[0m\u001b[0;34m)\u001b[0m\u001b[0;34m\u001b[0m\u001b[0;34m\u001b[0m\u001b[0m\n\u001b[1;32m    354\u001b[0m         \u001b[0;32mexcept\u001b[0m \u001b[0mStopIteration\u001b[0m \u001b[0;32mas\u001b[0m \u001b[0merr\u001b[0m\u001b[0;34m:\u001b[0m\u001b[0;34m\u001b[0m\u001b[0;34m\u001b[0m\u001b[0m\n\u001b[0;32m--> 355\u001b[0;31m             \u001b[0;32mraise\u001b[0m \u001b[0mJSONDecodeError\u001b[0m\u001b[0;34m(\u001b[0m\u001b[0;34m\"Expecting value\"\u001b[0m\u001b[0;34m,\u001b[0m \u001b[0ms\u001b[0m\u001b[0;34m,\u001b[0m \u001b[0merr\u001b[0m\u001b[0;34m.\u001b[0m\u001b[0mvalue\u001b[0m\u001b[0;34m)\u001b[0m \u001b[0;32mfrom\u001b[0m \u001b[0;32mNone\u001b[0m\u001b[0;34m\u001b[0m\u001b[0;34m\u001b[0m\u001b[0m\n\u001b[0m\u001b[1;32m    356\u001b[0m         \u001b[0;32mreturn\u001b[0m \u001b[0mobj\u001b[0m\u001b[0;34m,\u001b[0m \u001b[0mend\u001b[0m\u001b[0;34m\u001b[0m\u001b[0;34m\u001b[0m\u001b[0m\n",
      "\u001b[0;31mJSONDecodeError\u001b[0m: Expecting value: line 1 column 1 (char 0)"
     ]
    }
   ],
   "source": [
    "#這次試著同時開啟和關閉\n",
    "#先創造\n",
    "FFF = {\n",
    "    \"string\":\"resave test\",\n",
    "    \"number\":1111,\n",
    "    \"object\":{\"month\":\"January\",\"date\":12},\n",
    "    \"arry\":[1,2,3,\"haha\",\"medicine\",\"bodytest\"],\n",
    "}\n",
    "#存檔\n",
    "GGG = open('./zzz','w')\n",
    "GGG.write(json.dumps(FFF))\n",
    "GGG.close()\n",
    "#這次試著同時讀取和寫入，不過個別用不同的參數試試看\n",
    "HHH = open('./zzz','r')\n",
    "III = open('./zzz','w')\n",
    "xxxtmp = json.load(HHH)\n",
    "xxxtmp[\"string\"]=\"final test\",\n",
    "xxxtmp[\"number\"]=1400,\n",
    "xxxtmp[\"object\"]={\"where\":\"taipei\",\"date\":\"0112\"}\n",
    "xxxtmp[\"arry\"]=[456,789,0,\"A\",\"B\",\"C\"]\n",
    "#讀取模式不能做寫入動作\n",
    "#HHH.write(json.dumps(FFF))\n",
    "#關閉也放在最後好了\n",
    "#HHH.close()\n",
    "\n",
    "\n",
    "III.write(json.dumps(xxxtmp))\n",
    "HHH.close()\n",
    "III.close()"
   ]
  },
  {
   "cell_type": "code",
   "execution_count": 28,
   "metadata": {},
   "outputs": [],
   "source": [
    "#上次試著同時開啟和關閉\n",
    "#失敗\n",
    "#這次改試開啟和關閉都用同一個參數\n",
    "\n",
    "\n",
    "#先創造\n",
    "FFF = {\n",
    "    \"string\":\"resave test\",\n",
    "    \"number\":1111,\n",
    "    \"object\":{\"month\":\"January\",\"date\":12},\n",
    "    \"arry\":[1,2,3,\"haha\",\"medicine\",\"bodytest\"],\n",
    "}\n",
    "#存檔\n",
    "GGG = open('./zzz','w')\n",
    "GGG.write(json.dumps(FFF))\n",
    "GGG.close()\n",
    "#打開讀取然後做修改但不儲存\n",
    "HHH = open('./zzz','r')\n",
    "xxxtmp = json.load(HHH)\n",
    "xxxtmp[\"string\"]=\"final test\",\n",
    "xxxtmp[\"number\"]=1400,\n",
    "xxxtmp[\"object\"]={\"where\":\"taipei\",\"date\":\"0112\"}\n",
    "xxxtmp[\"arry\"]=[456,789,0,\"A\",\"B\",\"C\"]\n",
    "#讀取模式不能做寫入動作\n",
    "#HHH.write(json.dumps(FFF))\n",
    "HHH.close()\n",
    "#把修改的存進去\n",
    "HHH = open('./zzz','w')\n",
    "HHH.write(json.dumps(xxxtmp))\n",
    "HHH.close()\n",
    "\n",
    "\n"
   ]
  },
  {
   "cell_type": "code",
   "execution_count": null,
   "metadata": {},
   "outputs": [],
   "source": []
  },
  {
   "cell_type": "code",
   "execution_count": null,
   "metadata": {},
   "outputs": [],
   "source": []
  }
 ],
 "metadata": {
  "kernelspec": {
   "display_name": "Python 3",
   "language": "python",
   "name": "python3"
  },
  "language_info": {
   "codemirror_mode": {
    "name": "ipython",
    "version": 3
   },
   "file_extension": ".py",
   "mimetype": "text/x-python",
   "name": "python",
   "nbconvert_exporter": "python",
   "pygments_lexer": "ipython3",
   "version": "3.7.1"
  }
 },
 "nbformat": 4,
 "nbformat_minor": 2
}
