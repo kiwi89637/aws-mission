{
 "cells": [
  {
   "cell_type": "code",
   "execution_count": 15,
   "metadata": {},
   "outputs": [
    {
     "name": "stdout",
     "output_type": "stream",
     "text": [
      "[{'id': 2, 'name': 'Ervin Howell', 'username': 'Antonette', 'email': 'Shanna@melissa.tv', 'address': {'street': 'Victor Plains', 'suite': 'Suite 879', 'city': 'Wisokyburgh', 'zipcode': '90566-7771', 'geo': {'lat': '-43.9509', 'lng': '-34.4618'}}, 'phone': '010-692-6593 x09125', 'website': 'anastasia.net', 'company': {'name': 'Deckow-Crist', 'catchPhrase': 'Proactive didactic contingency', 'bs': 'synergize scalable supply-chains'}}, {'id': 3, 'name': 'Clementine Bauch', 'username': 'Samantha', 'email': 'Nathan@yesenia.net', 'address': {'street': 'Douglas Extension', 'suite': 'Suite 847', 'city': 'McKenziehaven', 'zipcode': '59590-4157', 'geo': {'lat': '-68.6102', 'lng': '-47.0653'}}, 'phone': '1-463-123-4447', 'website': 'ramiro.info', 'company': {'name': 'Romaguera-Jacobson', 'catchPhrase': 'Face to face bifurcated interface', 'bs': 'e-enable strategic applications'}}, {'id': 4, 'name': 'Patricia Lebsack', 'username': 'Karianne', 'email': 'Julianne.OConner@kory.org', 'address': {'street': 'Hoeger Mall', 'suite': 'Apt. 692', 'city': 'South Elvis', 'zipcode': '53919-4257', 'geo': {'lat': '29.4572', 'lng': '-164.2990'}}, 'phone': '493-170-9623 x156', 'website': 'kale.biz', 'company': {'name': 'Robel-Corkery', 'catchPhrase': 'Multi-tiered zero tolerance productivity', 'bs': 'transition cutting-edge web services'}}, {'id': 5, 'name': 'Chelsey Dietrich', 'username': 'Kamren', 'email': 'Lucio_Hettinger@annie.ca', 'address': {'street': 'Skiles Walks', 'suite': 'Suite 351', 'city': 'Roscoeview', 'zipcode': '33263', 'geo': {'lat': '-31.8129', 'lng': '62.5342'}}, 'phone': '(254)954-1289', 'website': 'demarco.info', 'company': {'name': 'Keebler LLC', 'catchPhrase': 'User-centric fault-tolerant solution', 'bs': 'revolutionize end-to-end systems'}}]\n"
     ]
    }
   ],
   "source": [
    "#使用python的request去訪問https://jsonplaceholder.typicode.com/users\n",
    "#從中取得2,3,4,5筆資料，偵測當時日期，轉成檔名，儲存到檔案裏面\n",
    "\n",
    "\n",
    "#引用套件\n",
    "import requests\n",
    "\n",
    "\n",
    "#訪問網址的內容，並將得到的內容定義為A\n",
    "A = requests.get(\"https://jsonplaceholder.typicode.com/users\")\n",
    "\n",
    "#訪問網址的內容，擷取id:2的內容(只能擷取一個片段，無法多個)，並定義取得的內容為A\n",
    "# A = requests.get(\"https://jsonplaceholder.typicode.com/users\",params={\"id\":2})\n",
    "\n",
    "#將內容做成陣列(這樣才能擷取多個內容片段)，要用json才能做\n",
    "J = A.json()\n",
    "newarray = J[1:5]\n",
    "print(newarray)\n",
    "\n",
    "\n",
    "#以text格式列出A的內容\n",
    "#print(A.text)\n",
    "\n",
    "#轉換成json格式，然後列出第0段的內容\n",
    "# J = A.json()\n",
    "# print(J[0])\n",
    "\n",
    "\n",
    "#取得時間\n",
    "import datetime\n",
    "nowtime = datetime.datetime.utcnow().strftime(\"%Y-%m-%d %H:%M:%S\")\n",
    "#print(nowtime)\n",
    "\n",
    "#將檔名設為時間↓↓\n",
    "#創建(打開)新的可寫入的(空)檔案，同時也制定了檔名(touch的概念)\n",
    "Z = open(nowtime,'w')\n",
    "#將要存儲的內容寫入，內容為()內的東西，算是有vim裡面w的意思\n",
    "Z.write(str(newarray))\n",
    "#vim裡面q的意思\n",
    "Z.close()\n",
    "\n",
    "#json.dump()將括號內的內容從json轉換成一般格式"
   ]
  }
 ],
 "metadata": {
  "kernelspec": {
   "display_name": "Python 3",
   "language": "python",
   "name": "python3"
  },
  "language_info": {
   "codemirror_mode": {
    "name": "ipython",
    "version": 3
   },
   "file_extension": ".py",
   "mimetype": "text/x-python",
   "name": "python",
   "nbconvert_exporter": "python",
   "pygments_lexer": "ipython3",
   "version": "3.7.1"
  }
 },
 "nbformat": 4,
 "nbformat_minor": 2
}
