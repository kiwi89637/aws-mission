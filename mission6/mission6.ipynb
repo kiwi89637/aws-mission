{
 "cells": [
  {
   "cell_type": "code",
   "execution_count": null,
   "metadata": {},
   "outputs": [],
   "source": [
    "\"\"\"\n",
    "撰寫一個Flask Server， 設計一個端口為user，用戶能對此端口用get方法訪問，傳回\n",
    "\n",
    "    {\"userId\":1,\"userName\":\"xiaoming\"}\n",
    "\"\"\"\n",
    "#先做一些練習\n",
    "#mission6主題在最下面"
   ]
  },
  {
   "cell_type": "code",
   "execution_count": 1,
   "metadata": {},
   "outputs": [
    {
     "name": "stdout",
     "output_type": "stream",
     "text": [
      "Requirement already satisfied: flask in /opt/conda/lib/python3.7/site-packages (1.0.2)\n",
      "Requirement already satisfied: click>=5.1 in /opt/conda/lib/python3.7/site-packages (from flask) (7.0)\n",
      "Requirement already satisfied: Werkzeug>=0.14 in /opt/conda/lib/python3.7/site-packages (from flask) (0.14.1)\n",
      "Requirement already satisfied: Jinja2>=2.10 in /opt/conda/lib/python3.7/site-packages (from flask) (2.10)\n",
      "Requirement already satisfied: itsdangerous>=0.24 in /opt/conda/lib/python3.7/site-packages (from flask) (1.1.0)\n",
      "Requirement already satisfied: MarkupSafe>=0.23 in /opt/conda/lib/python3.7/site-packages (from Jinja2>=2.10->flask) (1.1.0)\n"
     ]
    }
   ],
   "source": [
    "#安裝flask套件\n",
    "!pip install flask"
   ]
  },
  {
   "cell_type": "code",
   "execution_count": 7,
   "metadata": {},
   "outputs": [
    {
     "name": "stdout",
     "output_type": "stream",
     "text": [
      " * Serving Flask app \"__main__\" (lazy loading)\n",
      " * Environment: production\n",
      "   WARNING: Do not use the development server in a production environment.\n",
      "   Use a production WSGI server instead.\n",
      " * Debug mode: off\n"
     ]
    },
    {
     "name": "stderr",
     "output_type": "stream",
     "text": [
      " * Running on http://127.0.0.1:5000/ (Press CTRL+C to quit)\n"
     ]
    }
   ],
   "source": [
    "#Hello World練習\n",
    "#匯入套件\n",
    "from flask import Flask, request, abort\n",
    "#從官網複製下來改的\n",
    "AAA = Flask(__name__)\n",
    "\n",
    "@AAA.route(\"/\")\n",
    "\n",
    "def hello():\n",
    "\n",
    "    return \"Hello World!\"\n",
    "#跑了沒有錯誤，但啥都沒有\n",
    "#至少證實app只是個變數名詞\n",
    "\n",
    "if __name__ == \"__main__\":\n",
    "    AAA.run()\n",
    "    \n",
    "#結果是少了run"
   ]
  },
  {
   "cell_type": "code",
   "execution_count": 1,
   "metadata": {},
   "outputs": [
    {
     "name": "stdout",
     "output_type": "stream",
     "text": [
      " * Serving Flask app \"__main__\" (lazy loading)\n",
      " * Environment: production\n",
      "   WARNING: Do not use the development server in a production environment.\n",
      "   Use a production WSGI server instead.\n",
      " * Debug mode: off\n"
     ]
    },
    {
     "name": "stderr",
     "output_type": "stream",
     "text": [
      " * Running on http://0.0.0.0:5000/ (Press CTRL+C to quit)\n",
      "192.168.183.1 - - [13/Jan/2019 12:33:16] \"GET /user HTTP/1.1\" 200 -\n"
     ]
    }
   ],
   "source": [
    "#用老師的改改看\n",
    "from flask import Flask, request, abort\n",
    "AAA = Flask(__name__,static_url_path = \"/images\" , static_folder = \"./images/\" )\n",
    "\n",
    "@AAA.route('/user',methods=['GET'])\n",
    "def hello_world():\n",
    "    return 'Hello,World'\n",
    "\n",
    "if __name__ == \"__main__\":\n",
    "    AAA.run(host='0.0.0.0',port='5000')"
   ]
  },
  {
   "cell_type": "code",
   "execution_count": 5,
   "metadata": {},
   "outputs": [
    {
     "name": "stdout",
     "output_type": "stream",
     "text": [
      " * Serving Flask app \"__main__\" (lazy loading)\n",
      " * Environment: production\n",
      "   WARNING: Do not use the development server in a production environment.\n",
      "   Use a production WSGI server instead.\n",
      " * Debug mode: off\n"
     ]
    },
    {
     "name": "stderr",
     "output_type": "stream",
     "text": [
      " * Running on http://0.0.0.0:5000/ (Press CTRL+C to quit)\n",
      "192.168.183.1 - - [13/Jan/2019 12:37:34] \"GET /user/kkk HTTP/1.1\" 200 -\n"
     ]
    }
   ],
   "source": [
    "#Hello World練習\n",
    "#匯入套件\n",
    "from flask import Flask, request, abort\n",
    "#從官網複製下來改的\n",
    "AAA = Flask(__name__)\n",
    "\n",
    "#route後面括號內的是路徑，IP:port路徑(比較像目錄路徑的感覺而不是檔案路徑)\n",
    "@AAA.route('/user/<BBB>')\n",
    "\n",
    "#看來def後面2個也只是個名稱而已，只是BBB是有關連性的名稱，前面的是啥還不曉得\n",
    "#而前面的名稱當成是function名稱來看比較好，或者說本來就是function?\n",
    "def usernamehjbgh(BBB):\n",
    "    return 'hello man' + BBB\n",
    "\n",
    "    \n",
    "\n",
    "if __name__ == '__main__':\n",
    "\n",
    "   # AAA.debug = True\n",
    "     #AAA.run()\n",
    "     AAA.run(host='0.0.0.0',port='5000')\n",
    "#port號預設5000和可以改這比較沒問題，但另外好奇會不會剛好和其他設定衝到(常常看到5000，8080，8888，8000這些port號)\n",
    "#host有點疑惑，無指定預設為127.0.0.1的localhost，然後其他電腦連不進去，用0.0.0.0就可以"
   ]
  },
  {
   "cell_type": "code",
   "execution_count": null,
   "metadata": {},
   "outputs": [],
   "source": [
    "#以下算是開始以mission6為主題"
   ]
  },
  {
   "cell_type": "code",
   "execution_count": 1,
   "metadata": {},
   "outputs": [
    {
     "name": "stdout",
     "output_type": "stream",
     "text": [
      " * Serving Flask app \"__main__\" (lazy loading)\n",
      " * Environment: production\n",
      "   WARNING: Do not use the development server in a production environment.\n",
      "   Use a production WSGI server instead.\n",
      " * Debug mode: off\n"
     ]
    },
    {
     "name": "stderr",
     "output_type": "stream",
     "text": [
      " * Running on http://0.0.0.0:5000/ (Press CTRL+C to quit)\n",
      "192.168.183.1 - - [14/Jan/2019 12:36:48] \"GET / HTTP/1.1\" 404 -\n",
      "192.168.183.1 - - [14/Jan/2019 12:36:54] \"GET /user HTTP/1.1\" 200 -\n"
     ]
    }
   ],
   "source": [
    "#從官網複製下來改的\n",
    "from flask import Flask, request, jsonify\n",
    "\n",
    "AAA = Flask(__name__)\n",
    "@AAA.route('/user',methods=['GET'])\n",
    "\n",
    "def mission6():\n",
    "    x = {\"userId\":1,\"userName\":\"xiaoming\"}\n",
    "    return jsonify(x)\n",
    "\n",
    "    \n",
    "\n",
    "if __name__ == '__main__':\n",
    "\n",
    "   # AAA.debug = True\n",
    "     #AAA.run()\n",
    "     AAA.run(host='0.0.0.0',port='5000')"
   ]
  },
  {
   "cell_type": "code",
   "execution_count": null,
   "metadata": {},
   "outputs": [],
   "source": []
  },
  {
   "cell_type": "code",
   "execution_count": null,
   "metadata": {},
   "outputs": [],
   "source": []
  }
 ],
 "metadata": {
  "kernelspec": {
   "display_name": "Python 3",
   "language": "python",
   "name": "python3"
  },
  "language_info": {
   "codemirror_mode": {
    "name": "ipython",
    "version": 3
   },
   "file_extension": ".py",
   "mimetype": "text/x-python",
   "name": "python",
   "nbconvert_exporter": "python",
   "pygments_lexer": "ipython3",
   "version": "3.7.1"
  }
 },
 "nbformat": 4,
 "nbformat_minor": 2
}
