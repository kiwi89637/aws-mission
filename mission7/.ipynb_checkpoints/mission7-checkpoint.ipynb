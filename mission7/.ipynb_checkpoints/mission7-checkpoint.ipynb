{
 "cells": [
  {
   "cell_type": "code",
   "execution_count": null,
   "metadata": {},
   "outputs": [],
   "source": [
    "\"\"\"\n",
    "撰寫一個Flask Server， 設計一個端口為user，用戶能對此端口用GET方法訪問，並且挾帶query string， id=xxx。\n",
    "若用戶傳入 id=123，則傳回json\n",
    "{\"userId\":123}\n",
    "\"\"\""
   ]
  },
  {
   "cell_type": "code",
   "execution_count": 1,
   "metadata": {},
   "outputs": [
    {
     "name": "stdout",
     "output_type": "stream",
     "text": [
      "Requirement already satisfied: flask in /opt/conda/lib/python3.7/site-packages (1.0.2)\n",
      "Requirement already satisfied: itsdangerous>=0.24 in /opt/conda/lib/python3.7/site-packages (from flask) (1.1.0)\n",
      "Requirement already satisfied: Werkzeug>=0.14 in /opt/conda/lib/python3.7/site-packages (from flask) (0.14.1)\n",
      "Requirement already satisfied: Jinja2>=2.10 in /opt/conda/lib/python3.7/site-packages (from flask) (2.10)\n",
      "Requirement already satisfied: click>=5.1 in /opt/conda/lib/python3.7/site-packages (from flask) (7.0)\n",
      "Requirement already satisfied: MarkupSafe>=0.23 in /opt/conda/lib/python3.7/site-packages (from Jinja2>=2.10->flask) (1.1.0)\n"
     ]
    }
   ],
   "source": [
    "!pip install flask"
   ]
  },
  {
   "cell_type": "code",
   "execution_count": 4,
   "metadata": {},
   "outputs": [
    {
     "name": "stdout",
     "output_type": "stream",
     "text": [
      " * Serving Flask app \"__main__\" (lazy loading)\n",
      " * Environment: production\n",
      "   WARNING: Do not use the development server in a production environment.\n",
      "   Use a production WSGI server instead.\n",
      " * Debug mode: off\n"
     ]
    },
    {
     "name": "stderr",
     "output_type": "stream",
     "text": [
      " * Running on http://0.0.0.0:5000/ (Press CTRL+C to quit)\n",
      "192.168.183.1 - - [14/Jan/2019 12:56:30] \"GET /user HTTP/1.1\" 200 -\n",
      "192.168.183.1 - - [14/Jan/2019 13:00:35] \"POST /user HTTP/1.1\" 405 -\n",
      "192.168.183.1 - - [14/Jan/2019 13:01:38] \"POST /user HTTP/1.1\" 405 -\n",
      "192.168.183.1 - - [14/Jan/2019 13:02:50] \"GET /user156 HTTP/1.1\" 404 -\n",
      "192.168.183.1 - - [14/Jan/2019 13:02:59] \"GET /user=123 HTTP/1.1\" 404 -\n",
      "192.168.183.1 - - [14/Jan/2019 13:03:06] \"GET /user=123 HTTP/1.1\" 404 -\n",
      "192.168.183.1 - - [14/Jan/2019 13:03:09] \"GET /user HTTP/1.1\" 200 -\n",
      "192.168.183.1 - - [14/Jan/2019 13:04:01] \"GET /user/123 HTTP/1.1\" 404 -\n",
      "192.168.183.1 - - [14/Jan/2019 13:04:05] \"GET /user HTTP/1.1\" 200 -\n",
      "192.168.183.1 - - [14/Jan/2019 13:13:57] \"GET /user.123 HTTP/1.1\" 404 -\n",
      "192.168.183.1 - - [14/Jan/2019 13:14:04] \"GET /user:123 HTTP/1.1\" 404 -\n",
      "192.168.183.1 - - [14/Jan/2019 13:14:12] \"GET /user/123 HTTP/1.1\" 404 -\n",
      "192.168.183.1 - - [14/Jan/2019 13:14:18] \"GET /user=123 HTTP/1.1\" 404 -\n",
      "192.168.183.1 - - [14/Jan/2019 13:14:24] \"GET /user-123 HTTP/1.1\" 404 -\n",
      "192.168.183.1 - - [14/Jan/2019 13:14:32] \"GET /user~123 HTTP/1.1\" 404 -\n",
      "192.168.183.1 - - [14/Jan/2019 13:14:36] \"GET /user%20123 HTTP/1.1\" 404 -\n",
      "192.168.183.1 - - [14/Jan/2019 13:14:45] \"GET /user HTTP/1.1\" 200 -\n",
      "192.168.183.1 - - [14/Jan/2019 13:14:52] \"GET /user_123 HTTP/1.1\" 404 -\n",
      "192.168.183.1 - - [14/Jan/2019 13:14:56] \"GET /user?123 HTTP/1.1\" 200 -\n",
      "192.168.183.1 - - [14/Jan/2019 13:15:05] \"GET /user!123 HTTP/1.1\" 404 -\n",
      "192.168.183.1 - - [14/Jan/2019 13:15:13] \"GET /user,123 HTTP/1.1\" 404 -\n",
      "192.168.183.1 - - [14/Jan/2019 13:15:20] \"GET /user%22123%22 HTTP/1.1\" 404 -\n",
      "192.168.183.1 - - [14/Jan/2019 13:15:28] \"GET /user[123] HTTP/1.1\" 404 -\n",
      "192.168.183.1 - - [14/Jan/2019 13:15:32] \"GET /user123 HTTP/1.1\" 404 -\n",
      "192.168.183.1 - - [14/Jan/2019 13:15:38] \"GET /user HTTP/1.1\" 200 -\n",
      "192.168.183.1 - - [14/Jan/2019 13:17:12] \"GET /user@123 HTTP/1.1\" 404 -\n",
      "192.168.183.1 - - [14/Jan/2019 13:17:21] \"GET /user%123 HTTP/1.1\" 404 -\n",
      "192.168.183.1 - - [14/Jan/2019 13:17:27] \"GET /user&123 HTTP/1.1\" 404 -\n",
      "192.168.183.1 - - [14/Jan/2019 13:17:38] \"GET /user=123 HTTP/1.1\" 404 -\n",
      "192.168.183.1 - - [14/Jan/2019 13:17:42] \"GET /user+123 HTTP/1.1\" 404 -\n",
      "192.168.183.1 - - [14/Jan/2019 13:17:49] \"GET /user%3E123 HTTP/1.1\" 404 -\n",
      "192.168.183.1 - - [14/Jan/2019 13:18:05] \"GET /user*123 HTTP/1.1\" 404 -\n",
      "192.168.183.1 - - [14/Jan/2019 13:18:08] \"GET /user/123 HTTP/1.1\" 404 -\n",
      "192.168.183.1 - - [14/Jan/2019 13:18:17] \"GET /user/ HTTP/1.1\" 404 -\n",
      "192.168.183.1 - - [14/Jan/2019 13:18:20] \"GET /user HTTP/1.1\" 200 -\n",
      "192.168.183.1 - - [14/Jan/2019 13:20:37] \"GET /user HTTP/1.1\" 200 -\n",
      "192.168.183.1 - - [14/Jan/2019 13:23:08] \"GET /user?userID=123 HTTP/1.1\" 200 -\n",
      "192.168.183.1 - - [14/Jan/2019 13:23:16] \"GET /user?userId=123 HTTP/1.1\" 200 -\n",
      "192.168.183.1 - - [14/Jan/2019 13:23:21] \"GET /user?userID=123 HTTP/1.1\" 200 -\n",
      "192.168.183.1 - - [14/Jan/2019 13:24:01] \"GET /user?userId=123 HTTP/1.1\" 200 -\n"
     ]
    }
   ],
   "source": [
    "#從官網複製下來改的\n",
    "\n",
    "from flask import Flask, request, jsonify\n",
    "AAA = Flask(__name__)\n",
    "\n",
    "@AAA.route(\"/user\",methods=[\"GET\"])\n",
    "\n",
    "def mission7():\n",
    "    x = request.args.get('userID')\n",
    "    #上下的userid沒有關聯，在網址列輸入值時，是用上面的，顯示的在下面\n",
    "    XXX = {'userId':x}\n",
    "    \n",
    "    return jsonify(XXX)\n",
    "\n",
    "if __name__ == \"__main__\":\n",
    "    AAA.run(host='0.0.0.0')"
   ]
  },
  {
   "cell_type": "code",
   "execution_count": null,
   "metadata": {},
   "outputs": [],
   "source": []
  },
  {
   "cell_type": "code",
   "execution_count": null,
   "metadata": {},
   "outputs": [],
   "source": []
  },
  {
   "cell_type": "code",
   "execution_count": null,
   "metadata": {},
   "outputs": [],
   "source": []
  },
  {
   "cell_type": "code",
   "execution_count": null,
   "metadata": {},
   "outputs": [],
   "source": []
  },
  {
   "cell_type": "code",
   "execution_count": null,
   "metadata": {},
   "outputs": [],
   "source": []
  },
  {
   "cell_type": "code",
   "execution_count": null,
   "metadata": {},
   "outputs": [],
   "source": []
  },
  {
   "cell_type": "code",
   "execution_count": null,
   "metadata": {},
   "outputs": [],
   "source": []
  }
 ],
 "metadata": {
  "kernelspec": {
   "display_name": "Python 3",
   "language": "python",
   "name": "python3"
  },
  "language_info": {
   "codemirror_mode": {
    "name": "ipython",
    "version": 3
   },
   "file_extension": ".py",
   "mimetype": "text/x-python",
   "name": "python",
   "nbconvert_exporter": "python",
   "pygments_lexer": "ipython3",
   "version": "3.7.1"
  }
 },
 "nbformat": 4,
 "nbformat_minor": 2
}
