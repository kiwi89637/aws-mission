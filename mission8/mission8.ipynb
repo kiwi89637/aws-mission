{
 "cells": [
  {
   "cell_type": "code",
   "execution_count": null,
   "metadata": {},
   "outputs": [],
   "source": [
    "\"\"\"\n",
    "撰寫一個Flask Server， 設計一個端口為user，用戶能對此端口用POST方法訪問，挾帶任意json body。 \n",
    "將此body轉存成檔案，存在伺服器上，並將此檔案上傳至 iii-tutorial-v2桶內的student{座號}資料夾下。\n",
    "\"\"\""
   ]
  },
  {
   "cell_type": "code",
   "execution_count": 7,
   "metadata": {},
   "outputs": [
    {
     "name": "stdout",
     "output_type": "stream",
     "text": [
      "Requirement already satisfied: flask in /opt/conda/lib/python3.7/site-packages (1.0.2)\n",
      "Requirement already satisfied: click>=5.1 in /opt/conda/lib/python3.7/site-packages (from flask) (7.0)\n",
      "Requirement already satisfied: Werkzeug>=0.14 in /opt/conda/lib/python3.7/site-packages (from flask) (0.14.1)\n",
      "Requirement already satisfied: itsdangerous>=0.24 in /opt/conda/lib/python3.7/site-packages (from flask) (1.1.0)\n",
      "Requirement already satisfied: Jinja2>=2.10 in /opt/conda/lib/python3.7/site-packages (from flask) (2.10)\n",
      "Requirement already satisfied: MarkupSafe>=0.23 in /opt/conda/lib/python3.7/site-packages (from Jinja2>=2.10->flask) (1.1.0)\n",
      "Collecting awscli\n",
      "\u001b[?25l  Downloading https://files.pythonhosted.org/packages/9e/e4/024bc0e15f11c248afdbf09dfff626d51170730933dcb0641db30a8b629e/awscli-1.16.89-py2.py3-none-any.whl (1.4MB)\n",
      "\u001b[K    100% |████████████████████████████████| 1.4MB 4.2MB/s ta 0:00:01\n",
      "\u001b[?25hCollecting botocore==1.12.79 (from awscli)\n",
      "\u001b[?25l  Downloading https://files.pythonhosted.org/packages/c7/97/305fe314ea972c202e77e1dc6cb6a3786dc5595d2f135890a22b38203ff4/botocore-1.12.79-py2.py3-none-any.whl (5.2MB)\n",
      "\u001b[K    100% |████████████████████████████████| 5.2MB 706kB/s eta 0:00:01██████████████████▉   | 4.7MB 15.9MB/s eta 0:00:01\n",
      "\u001b[?25hCollecting s3transfer<0.2.0,>=0.1.12 (from awscli)\n",
      "  Using cached https://files.pythonhosted.org/packages/d7/14/2a0004d487464d120c9fb85313a75cd3d71a7506955be458eebfe19a6b1d/s3transfer-0.1.13-py2.py3-none-any.whl\n",
      "Collecting docutils>=0.10 (from awscli)\n",
      "  Using cached https://files.pythonhosted.org/packages/36/fa/08e9e6e0e3cbd1d362c3bbee8d01d0aedb2155c4ac112b19ef3cae8eed8d/docutils-0.14-py3-none-any.whl\n",
      "Collecting colorama<=0.3.9,>=0.2.5 (from awscli)\n",
      "  Using cached https://files.pythonhosted.org/packages/db/c8/7dcf9dbcb22429512708fe3a547f8b6101c0d02137acbd892505aee57adf/colorama-0.3.9-py2.py3-none-any.whl\n",
      "Collecting rsa<=3.5.0,>=3.1.2 (from awscli)\n",
      "  Using cached https://files.pythonhosted.org/packages/e1/ae/baedc9cb175552e95f3395c43055a6a5e125ae4d48a1d7a924baca83e92e/rsa-3.4.2-py2.py3-none-any.whl\n",
      "Collecting PyYAML<=3.13,>=3.10 (from awscli)\n",
      "Requirement already satisfied: python-dateutil<3.0.0,>=2.1; python_version >= \"2.7\" in /opt/conda/lib/python3.7/site-packages (from botocore==1.12.79->awscli) (2.7.5)\n",
      "Collecting jmespath<1.0.0,>=0.7.1 (from botocore==1.12.79->awscli)\n",
      "  Using cached https://files.pythonhosted.org/packages/b7/31/05c8d001f7f87f0f07289a5fc0fc3832e9a57f2dbd4d3b0fee70e0d51365/jmespath-0.9.3-py2.py3-none-any.whl\n",
      "Requirement already satisfied: urllib3<1.25,>=1.20; python_version >= \"3.4\" in /opt/conda/lib/python3.7/site-packages (from botocore==1.12.79->awscli) (1.24.1)\n",
      "Collecting pyasn1>=0.1.3 (from rsa<=3.5.0,>=3.1.2->awscli)\n",
      "  Using cached https://files.pythonhosted.org/packages/7b/7c/c9386b82a25115cccf1903441bba3cbadcfae7b678a20167347fa8ded34c/pyasn1-0.4.5-py2.py3-none-any.whl\n",
      "Requirement already satisfied: six>=1.5 in /opt/conda/lib/python3.7/site-packages (from python-dateutil<3.0.0,>=2.1; python_version >= \"2.7\"->botocore==1.12.79->awscli) (1.12.0)\n",
      "Installing collected packages: jmespath, docutils, botocore, s3transfer, colorama, pyasn1, rsa, PyYAML, awscli\n",
      "Successfully installed PyYAML-3.13 awscli-1.16.89 botocore-1.12.79 colorama-0.3.9 docutils-0.14 jmespath-0.9.3 pyasn1-0.4.5 rsa-3.4.2 s3transfer-0.1.13\n",
      "Collecting boto3\n",
      "\u001b[?25l  Downloading https://files.pythonhosted.org/packages/cc/91/6c0cd8fbe093e618a140974b7200e72bc64c1300a403fccc2dc57dc93c6a/boto3-1.9.79-py2.py3-none-any.whl (128kB)\n",
      "\u001b[K    100% |████████████████████████████████| 133kB 1.2MB/s ta 0:00:01\n",
      "\u001b[?25hRequirement already satisfied: s3transfer<0.2.0,>=0.1.10 in /opt/conda/lib/python3.7/site-packages (from boto3) (0.1.13)\n",
      "Requirement already satisfied: botocore<1.13.0,>=1.12.79 in /opt/conda/lib/python3.7/site-packages (from boto3) (1.12.79)\n",
      "Requirement already satisfied: jmespath<1.0.0,>=0.7.1 in /opt/conda/lib/python3.7/site-packages (from boto3) (0.9.3)\n",
      "Requirement already satisfied: docutils>=0.10 in /opt/conda/lib/python3.7/site-packages (from botocore<1.13.0,>=1.12.79->boto3) (0.14)\n",
      "Requirement already satisfied: urllib3<1.25,>=1.20; python_version >= \"3.4\" in /opt/conda/lib/python3.7/site-packages (from botocore<1.13.0,>=1.12.79->boto3) (1.24.1)\n",
      "Requirement already satisfied: python-dateutil<3.0.0,>=2.1; python_version >= \"2.7\" in /opt/conda/lib/python3.7/site-packages (from botocore<1.13.0,>=1.12.79->boto3) (2.7.5)\n",
      "Requirement already satisfied: six>=1.5 in /opt/conda/lib/python3.7/site-packages (from python-dateutil<3.0.0,>=2.1; python_version >= \"2.7\"->botocore<1.13.0,>=1.12.79->boto3) (1.12.0)\n",
      "Installing collected packages: boto3\n",
      "Successfully installed boto3-1.9.79\n"
     ]
    }
   ],
   "source": [
    "!pip install flask\n",
    "!pip install awscli\n",
    "!pip install boto3"
   ]
  },
  {
   "cell_type": "code",
   "execution_count": 22,
   "metadata": {
    "scrolled": true
   },
   "outputs": [
    {
     "name": "stdout",
     "output_type": "stream",
     "text": [
      " * Serving Flask app \"__main__\" (lazy loading)\n",
      " * Environment: production\n",
      "   WARNING: Do not use the development server in a production environment.\n",
      "   Use a production WSGI server instead.\n",
      " * Debug mode: off\n"
     ]
    },
    {
     "name": "stderr",
     "output_type": "stream",
     "text": [
      " * Running on http://0.0.0.0:5000/ (Press CTRL+C to quit)\n"
     ]
    },
    {
     "name": "stdout",
     "output_type": "stream",
     "text": [
      "cf-templates-1p10s3zwqual7-ap-northeast-1\n",
      "codepipeline-ap-northeast-1-795930573432\n",
      "iii-tutorial\n",
      "iii-tutorial-v2\n",
      "iii-vmimport-demo\n",
      "temp-lbh\n",
      "tibame-lbh\n",
      "tutorial-material\n"
     ]
    },
    {
     "name": "stderr",
     "output_type": "stream",
     "text": [
      "192.168.183.1 - - [16/Jan/2019 10:18:42] \"POST /user HTTP/1.1\" 200 -\n"
     ]
    }
   ],
   "source": [
    "#從官網複製下來改的\n",
    "from flask import Flask, request, jsonify\n",
    "import boto3\n",
    "import json\n",
    "\n",
    "AAA = Flask(__name__)\n",
    "@AAA.route('/user',methods=['POST'])\n",
    "\n",
    "def mission8():\n",
    "    x = request.get_json()\n",
    "#     XXX = x\n",
    "#     return jsonify(XXX)\n",
    "\n",
    "    GGG = open('./s3mission8','w')\n",
    "    GGG.write(json.dumps(x))\n",
    "    GGG.close()\n",
    "    \n",
    "    # Let's use Amazon S3\n",
    "    s3 = boto3.resource('s3')\n",
    "    \n",
    "    #列出s3內的bucket名稱\n",
    "    for bucket in s3.buckets.all():\n",
    "        print(bucket.name)\n",
    "    \n",
    "    #官網的範例\n",
    "    # Upload a new file\n",
    "    #data = open('test.jpg', 'rb')\n",
    "    #s3.Bucket('my-bucket').put_object(Key='test.jpg', Body=data)\n",
    "    \n",
    "    SSS = open('./s3mission8','rb')\n",
    "    s3.Bucket('iii-tutorial-v2').put_object(Key='student11/s3mission8',Body=SSS)\n",
    "    \n",
    "    return jsonify(x)\n",
    "    \n",
    "\n",
    "if __name__ == '__main__':\n",
    "\n",
    "     #AAA.debug = True\n",
    "     #AAA.run()\n",
    "     AAA.run(host='0.0.0.0',port='5000')"
   ]
  },
  {
   "cell_type": "code",
   "execution_count": null,
   "metadata": {},
   "outputs": [],
   "source": []
  },
  {
   "cell_type": "code",
   "execution_count": null,
   "metadata": {},
   "outputs": [],
   "source": []
  }
 ],
 "metadata": {
  "kernelspec": {
   "display_name": "Python 3",
   "language": "python",
   "name": "python3"
  },
  "language_info": {
   "codemirror_mode": {
    "name": "ipython",
    "version": 3
   },
   "file_extension": ".py",
   "mimetype": "text/x-python",
   "name": "python",
   "nbconvert_exporter": "python",
   "pygments_lexer": "ipython3",
   "version": "3.7.1"
  }
 },
 "nbformat": 4,
 "nbformat_minor": 2
}
